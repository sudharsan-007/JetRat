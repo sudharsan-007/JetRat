{
 "cells": [
  {
   "cell_type": "code",
   "execution_count": 2,
   "metadata": {},
   "outputs": [
    {
     "data": {
      "text/plain": [
       "nvidia_model(\n",
       "  (bn1): BatchNorm2d(3, eps=1e-05, momentum=0.1, affine=True, track_running_stats=True)\n",
       "  (conv1): Conv2d(3, 24, kernel_size=(5, 5), stride=(2, 2))\n",
       "  (conv2): Conv2d(24, 36, kernel_size=(5, 5), stride=(2, 2))\n",
       "  (conv3): Conv2d(36, 48, kernel_size=(5, 5), stride=(2, 2))\n",
       "  (conv4): Conv2d(48, 64, kernel_size=(3, 3), stride=(1, 1))\n",
       "  (conv5): Conv2d(64, 64, kernel_size=(3, 3), stride=(1, 1))\n",
       "  (dropout1): Dropout(p=0.45, inplace=False)\n",
       "  (fc1): Linear(in_features=1152, out_features=100, bias=True)\n",
       "  (dropout2): Dropout(p=0.4, inplace=False)\n",
       "  (fc2): Linear(in_features=100, out_features=50, bias=True)\n",
       "  (dropout3): Dropout(p=0.4, inplace=False)\n",
       "  (fc3): Linear(in_features=50, out_features=10, bias=True)\n",
       "  (output): Linear(in_features=10, out_features=2, bias=True)\n",
       ")"
      ]
     },
     "execution_count": 2,
     "metadata": {},
     "output_type": "execute_result"
    }
   ],
   "source": [
    "import torch\n",
    "import torch.optim as optim\n",
    "from utils.model import *\n",
    "\n",
    "device = torch.device('cpu')\n",
    "PATH = './checkpoint/ckpt.pth'\n",
    "net = nvidia_model()\n",
    "optimizer = optim.Adam(net.parameters(), lr=1e-3, weight_decay=5e-4)\n",
    "checkpoint = torch.load(PATH, map_location=device)\n",
    "net.load_state_dict(checkpoint['net'])\n",
    "optimizer.load_state_dict(checkpoint['optimizer'])\n",
    "\n",
    "net.eval()"
   ]
  }
 ],
 "metadata": {
  "kernelspec": {
   "display_name": "Python 3.8.13 ('carRun')",
   "language": "python",
   "name": "python3"
  },
  "language_info": {
   "codemirror_mode": {
    "name": "ipython",
    "version": 3
   },
   "file_extension": ".py",
   "mimetype": "text/x-python",
   "name": "python",
   "nbconvert_exporter": "python",
   "pygments_lexer": "ipython3",
   "version": "3.8.13"
  },
  "orig_nbformat": 4,
  "vscode": {
   "interpreter": {
    "hash": "8cbd554e0a626d5b0dc8f6d70d23ade949fe63ff87b5e7e2bdb45ce904d97dac"
   }
  }
 },
 "nbformat": 4,
 "nbformat_minor": 2
}
