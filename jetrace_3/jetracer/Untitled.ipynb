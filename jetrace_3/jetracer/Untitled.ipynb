{
 "cells": [
  {
   "cell_type": "code",
   "execution_count": 1,
   "id": "polar-confusion",
   "metadata": {},
   "outputs": [],
   "source": [
    "from adafruit_servokit import ServoKit\n",
    "import adafruit_pca9685\n",
    "import time\n"
   ]
  },
  {
   "cell_type": "code",
   "execution_count": 2,
   "id": "celtic-mount",
   "metadata": {},
   "outputs": [],
   "source": [
    "# checking arming etc\n",
    "\n",
    "i2c_address = 0x40\n",
    "steering_channel = 0\n",
    "throttle_channel = 1\n",
    "\n",
    "kit = ServoKit(channels=16, address=i2c_address)\n",
    "\n",
    "kit.continuous_servo[0].throttle = 0\n",
    "kit.continuous_servo[1].throttle = 0"
   ]
  },
  {
   "cell_type": "code",
   "execution_count": null,
   "id": "extensive-offering",
   "metadata": {},
   "outputs": [],
   "source": []
  },
  {
   "cell_type": "code",
   "execution_count": 13,
   "id": "differential-carbon",
   "metadata": {},
   "outputs": [],
   "source": [
    "kit.continuous_servo[1].throttle = -0.15"
   ]
  },
  {
   "cell_type": "code",
   "execution_count": 3,
   "id": "chemical-announcement",
   "metadata": {},
   "outputs": [],
   "source": [
    "# arming the car\n",
    "kit.continuous_servo[1].throttle = -0.0\n",
    "time.sleep(1)\n",
    "kit.continuous_servo[1].throttle = 1.0\n",
    "time.sleep(1)\n",
    "kit.continuous_servo[1].throttle = 0.1\n",
    "#time.sleep(1)\n",
    "#kit.continuous_servo[1].throttle = 0\n",
    "#time.sleep(2)\n",
    "#kit.continuous_servo[1].throttle = 0.2\n",
    "#time.sleep(1)\n",
    "#kit.continuous_servo[1].throttle = 0.0"
   ]
  },
  {
   "cell_type": "code",
   "execution_count": 6,
   "id": "fifty-conclusion",
   "metadata": {},
   "outputs": [],
   "source": [
    "kit.continuous_servo[1].throttle = 0.0\n"
   ]
  },
  {
   "cell_type": "code",
   "execution_count": 48,
   "id": "needed-library",
   "metadata": {},
   "outputs": [],
   "source": [
    "kit.continuous_servo[1].throttle = 0\n",
    "time.sleep(2)\n",
    "kit.continuous_servo[1].throttle = 1\n",
    "time.sleep(2)\n",
    "kit.continuous_servo[1].throttle = 0\n",
    "time.sleep(1)\n",
    "kit.continuous_servo[1].throttle = 0\n",
    "time.sleep(1)"
   ]
  },
  {
   "cell_type": "code",
   "execution_count": null,
   "id": "empty-discrimination",
   "metadata": {},
   "outputs": [],
   "source": [
    "# pip install adafruit-circuitpython-motor adafruit-circuitpython-lis3dh\n",
    "from time import sleep\n",
    "from board import SCL, SDA\n",
    "import busio\n",
    "from adafruit_motor import servo\n",
    "from adafruit_pca9685 import PCA9685\n",
    "\n",
    "zero_value = 0\n",
    "min_value = 1000\n",
    "max_value = 2000\n",
    "mid_value = int((min_value + max_value) / 2)\n",
    "increment = int((max_value - mid_value) / 100)\n",
    "\n",
    "\n",
    "i2c = busio.I2C(SCL, SDA)\n",
    "pca = PCA9685(i2c)\n",
    "pca.frequency = 50  # Set it to the same value as I got from the previous script\n",
    "\n",
    "bldc = servo.Servo(pca.channels[1], actuation_range=200, min_pulse=min_value, max_pulse=max_value)\n",
    "\n",
    "bldc.angle = zero_value     # Step 1\n",
    "bldc.angle = max_value      # Step 2\n",
    "bldc.angle = min_value      # Step 3\n",
    "sleep(3)\n",
    "bldc.angle = zero_value     # Step 4\n",
    "sleep(2)\n",
    "bldc.angle = min_value      # Step 5\n",
    "sleep(2)\n",
    "\n",
    "for speed in range(mid_value, max_value, increment):\n",
    "    print(speed)\n",
    "    bldc.angle = speed\n",
    "    sleep(0.5)"
   ]
  }
 ],
 "metadata": {
  "kernelspec": {
   "display_name": "Python 3",
   "language": "python",
   "name": "python3"
  },
  "language_info": {
   "codemirror_mode": {
    "name": "ipython",
    "version": 3
   },
   "file_extension": ".py",
   "mimetype": "text/x-python",
   "name": "python",
   "nbconvert_exporter": "python",
   "pygments_lexer": "ipython3",
   "version": "3.6.9"
  }
 },
 "nbformat": 4,
 "nbformat_minor": 5
}
