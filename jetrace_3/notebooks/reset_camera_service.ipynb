{
 "cells": [
  {
   "cell_type": "markdown",
   "id": "clear-monday",
   "metadata": {},
   "source": [
    "# Reset camera service"
   ]
  },
  {
   "cell_type": "markdown",
   "id": "scheduled-python",
   "metadata": {},
   "source": [
    "Run the following command to restart the camera service, in case you run into a trouble using the camera.\n"
   ]
  },
  {
   "cell_type": "code",
   "execution_count": 5,
   "id": "enhanced-extent",
   "metadata": {
    "tags": []
   },
   "outputs": [
    {
     "name": "stdout",
     "output_type": "stream",
     "text": [
      "[sudo] password for jetson: "
     ]
    }
   ],
   "source": [
    "!echo $USER | sudo -S systemctl restart nvargus-daemon "
   ]
  },
  {
   "cell_type": "code",
   "execution_count": null,
   "id": "choice-crash",
   "metadata": {},
   "outputs": [],
   "source": []
  }
 ],
 "metadata": {
  "kernelspec": {
   "display_name": "Python 3",
   "language": "python",
   "name": "python3"
  },
  "language_info": {
   "codemirror_mode": {
    "name": "ipython",
    "version": 3
   },
   "file_extension": ".py",
   "mimetype": "text/x-python",
   "name": "python",
   "nbconvert_exporter": "python",
   "pygments_lexer": "ipython3",
   "version": "3.6.9"
  }
 },
 "nbformat": 4,
 "nbformat_minor": 5
}
